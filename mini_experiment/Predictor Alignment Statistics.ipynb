{
 "cells": [
  {
   "cell_type": "code",
   "execution_count": 1,
   "metadata": {
    "collapsed": true
   },
   "outputs": [],
   "source": [
    "# Essential Libs\n",
    "import pandas as pd\n",
    "import numpy as np\n",
    "import matplotlib.pyplot as plt"
   ]
  },
  {
   "cell_type": "code",
   "execution_count": 2,
   "metadata": {
    "collapsed": true
   },
   "outputs": [],
   "source": [
    "# Data set\n",
    "df = pd.read_csv('gene_presence_report.csv', index_col=0)"
   ]
  },
  {
   "cell_type": "code",
   "execution_count": 3,
   "metadata": {},
   "outputs": [
    {
     "name": "stdout",
     "output_type": "stream",
     "text": [
      "1436893830000|3159571    43502\n",
      "1436893909000|3159808    40726\n",
      "2873786891000|3159389    43590\n",
      "2873787160000|3160196    43236\n",
      "4310679577000|3158082    39793\n",
      "4310679772000|3158667    43237\n",
      "4310679831000|3158844    43233\n",
      "4310680254000|3160113    43070\n",
      "4310680315000|3160296    43430\n",
      "4310680399000|3160548    42302\n",
      "dtype: int64\n"
     ]
    }
   ],
   "source": [
    "# Num of hits per predictor marker\n",
    "per_marker_df = df.sum(axis=0)\n",
    "print(per_marker_df)\n",
    "plt.figure()\n",
    "per_marker_df.plot(kind='bar')\n",
    "plt.show()"
   ]
  },
  {
   "cell_type": "code",
   "execution_count": 4,
   "metadata": {},
   "outputs": [
    {
     "name": "stdout",
     "output_type": "stream",
     "text": [
      "count    52677.000000\n",
      "mean         8.089280\n",
      "std          3.627041\n",
      "min          0.000000\n",
      "25%          9.000000\n",
      "50%         10.000000\n",
      "75%         10.000000\n",
      "max         10.000000\n",
      "dtype: float64\n"
     ]
    }
   ],
   "source": [
    "# Summary of total hits per genome\n",
    "total_hit_df = df.sum(axis=1)\n",
    "print(total_hit_df.describe())"
   ]
  },
  {
   "cell_type": "code",
   "execution_count": 23,
   "metadata": {},
   "outputs": [
    {
     "name": "stdout",
     "output_type": "stream",
     "text": [
      "0      8054\n",
      "1       365\n",
      "2       134\n",
      "3       187\n",
      "4       212\n",
      "5       143\n",
      "6       249\n",
      "7       603\n",
      "8      1158\n",
      "9      7337\n",
      "10    34235\n",
      "dtype: int64\n"
     ]
    },
    {
     "data": {
      "image/png": "[encoded data removed]",
      "text/plain": [
       "<matplotlib.figure.Figure at 0x7ff2db6d2ef0>"
      ]
     },
     "metadata": {},
     "output_type": "display_data"
    }
   ],
   "source": [
    "# Summary of genome count per number of hits\n",
    "val_count_df = total_hit_df.value_counts().sort_index()\n",
    "print(val_count_df)\n",
    "val_count_df.plot(kind='bar')\n",
    "plt.show()"
   ]
  },
  {
   "cell_type": "code",
   "execution_count": 29,
   "metadata": {},
   "outputs": [
    {
     "name": "stdout",
     "output_type": "stream",
     "text": [
      "Index(['ESC_HA1294AA_AS', 'ESC_BA0717AA_AS', 'ESC_HA0726AA_AS',\n",
      "       'ESC_BA3685AA_AS', 'ESC_HA2648AA_AS', 'ESC_CA2653AA_AS',\n",
      "       'ESC_BA6717AA_AS', 'ESC_AA9589AA_AS', 'ESC_LA1756AA_AS',\n",
      "       'ESC_IA1056AA_AS',\n",
      "       ...\n",
      "       'ESC_LA5574AA_AS', 'ESC_PA1457AA_AS', 'ESC_OA1879AA_AS',\n",
      "       'ESC_MA2986AA_AS', 'ESC_LA4695AA_AS', 'ESC_HA6471AA_AS',\n",
      "       'ESC_BA0148AA_AS', 'ESC_CA3999AA_AS', 'ESC_GA8467AA_AS',\n",
      "       'ESC_CA3125AA_AS'],\n",
      "      dtype='object', name='genome_name', length=8553)\n"
     ]
    }
   ],
   "source": [
    "# List genomes that do not meet threshold (3)\n",
    "bad_genomes_df = total_hit_df[total_hit_df.isin(range(3))].index\n",
    "print(bad_genomes_df)\n",
    "# uncomment next line to get full list\n",
    "# print(list(bad_genomes_df))"
   ]
  },
  {
   "cell_type": "code",
   "execution_count": null,
   "metadata": {
    "collapsed": true
   },
   "outputs": [],
   "source": []
  }
 ],
 "metadata": {
  "kernelspec": {
   "display_name": "Python 3",
   "language": "python",
   "name": "python3"
  },
  "language_info": {
   "codemirror_mode": {
    "name": "ipython",
    "version": 3
   },
   "file_extension": ".py",
   "mimetype": "text/x-python",
   "name": "python",
   "nbconvert_exporter": "python",
   "pygments_lexer": "ipython3",
   "version": "3.6.2"
  }
 },
 "nbformat": 4,
 "nbformat_minor": 2
}
