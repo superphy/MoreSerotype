{
 "cells": [
  {
   "cell_type": "code",
   "execution_count": null,
   "metadata": {
    "collapsed": true
   },
   "outputs": [],
   "source": [
    "# Analysis of E. Coli predictor markers\n",
    "* Predictor alignment on  genomes"
   ]
  },
  {
   "cell_type": "code",
   "execution_count": 1,
   "metadata": {
    "collapsed": true
   },
   "outputs": [],
   "source": [
    "# Essential Libs\n",
    "import pandas as pd\n",
    "import numpy as np\n",
    "import matplotlib.pyplot as plt"
   ]
  },
  {
   "cell_type": "code",
   "execution_count": 2,
   "metadata": {
    "collapsed": true
   },
   "outputs": [],
   "source": [
    "# Data set\n",
    "df = pd.read_csv('gene_presence_report.csv', index_col=0)"
   ]
  },
  {
   "cell_type": "code",
   "execution_count": 3,
   "metadata": {},
   "outputs": [
    {
     "name": "stdout",
     "output_type": "stream",
     "text": [
      "1436893830000|3159571    43502\n",
      "1436893909000|3159808    40726\n",
      "2873786891000|3159389    43590\n",
      "2873787160000|3160196    43236\n",
      "4310679577000|3158082    39793\n",
      "4310679772000|3158667    43237\n",
      "4310679831000|3158844    43233\n",
      "4310680254000|3160113    43070\n",
      "4310680315000|3160296    43430\n",
      "4310680399000|3160548    42302\n",
      "dtype: int64\n"
     ]
    },
    {
     "data": {
      "image/png": "[encoded data removed]",
      "text/plain": [
       "<matplotlib.figure.Figure at 0x7f2d0921b080>"
      ]
     },
     "metadata": {},
     "output_type": "display_data"
    }
   ],
   "source": [
    "# Num of hits per predictor marker\n",
    "per_marker_df = df.sum(axis=0)\n",
    "print(per_marker_df)\n",
    "plt.figure()\n",
    "per_marker_df.plot(kind='bar')\n",
    "plt.show()"
   ]
  },
  {
   "cell_type": "code",
   "execution_count": 4,
   "metadata": {},
   "outputs": [
    {
     "data": {
      "text/plain": [
       "count    52677.000000\n",
       "mean         8.089280\n",
       "std          3.627041\n",
       "min          0.000000\n",
       "25%          9.000000\n",
       "50%         10.000000\n",
       "75%         10.000000\n",
       "max         10.000000\n",
       "dtype: float64"
      ]
     },
     "execution_count": 4,
     "metadata": {},
     "output_type": "execute_result"
    }
   ],
   "source": [
    "# Summary of total hits per genome\n",
    "total_hit_s = df.sum(axis=1)\n",
    "total_hit_s.describe()"
   ]
  },
  {
   "cell_type": "code",
   "execution_count": 5,
   "metadata": {},
   "outputs": [
    {
     "name": "stdout",
     "output_type": "stream",
     "text": [
      "0      8054\n",
      "1       365\n",
      "2       134\n",
      "3       187\n",
      "4       212\n",
      "5       143\n",
      "6       249\n",
      "7       603\n",
      "8      1158\n",
      "9      7337\n",
      "10    34235\n",
      "dtype: int64\n"
     ]
    },
    {
     "data": {
      "image/png": "[encoded data removed]",
      "text/plain": [
       "<matplotlib.figure.Figure at 0x7f2d09236ef0>"
      ]
     },
     "metadata": {},
     "output_type": "display_data"
    }
   ],
   "source": [
    "# Summary of genome count per number of hits\n",
    "val_count_s = total_hit_s.value_counts().sort_index()\n",
    "print(val_count_s)\n",
    "val_count_s.plot(kind='bar')\n",
    "plt.show()"
   ]
  },
  {
   "cell_type": "code",
   "execution_count": 6,
   "metadata": {},
   "outputs": [
    {
     "name": "stdout",
     "output_type": "stream",
     "text": [
      "Index(['ESC_HA1294AA_AS', 'ESC_BA0717AA_AS', 'ESC_HA0726AA_AS',\n",
      "       'ESC_BA3685AA_AS', 'ESC_HA2648AA_AS', 'ESC_CA2653AA_AS',\n",
      "       'ESC_BA6717AA_AS', 'ESC_AA9589AA_AS', 'ESC_LA1756AA_AS',\n",
      "       'ESC_IA1056AA_AS',\n",
      "       ...\n",
      "       'ESC_LA5574AA_AS', 'ESC_PA1457AA_AS', 'ESC_OA1879AA_AS',\n",
      "       'ESC_MA2986AA_AS', 'ESC_LA4695AA_AS', 'ESC_HA6471AA_AS',\n",
      "       'ESC_BA0148AA_AS', 'ESC_CA3999AA_AS', 'ESC_GA8467AA_AS',\n",
      "       'ESC_CA3125AA_AS'],\n",
      "      dtype='object', name='genome_name', length=8553)\n"
     ]
    }
   ],
   "source": [
    "# List genomes that do not meet threshold (3)\n",
    "bad_genomes_s = total_hit_s[total_hit_s.isin(range(3))].index\n",
    "print(bad_genomes_s)\n",
    "bad_genomes = list(bad_genomes_s)\n",
    "# uncomment next line to get full list\n",
    "# print(list(bad_genomes_df))"
   ]
  },
  {
   "cell_type": "code",
   "execution_count": 7,
   "metadata": {},
   "outputs": [
    {
     "name": "stdout",
     "output_type": "stream",
     "text": [
      "['ESC_BA9048AA_AS', 'ESC_BA4307AA_AS', 'ESC_KA3487AA_AS', 'ESC_GA7863AA_AS', 'ESC_CA5285AA_AS', 'ESC_CA4089AA_AS', 'ESC_BA7159AA_AS', 'ESC_CA2883AA_AS', 'ESC_AA8910AA_AS', 'ESC_JA5955AA_AS']\n"
     ]
    }
   ],
   "source": [
    "# Choose 10 at random\n",
    "'''\n",
    "import random\n",
    "samples = random.sample(bad_genomes, 10)\n",
    "'''\n",
    "samples = [\n",
    "    'ESC_BA9048AA_AS', 'ESC_BA4307AA_AS', 'ESC_KA3487AA_AS',\n",
    "    'ESC_GA7863AA_AS', 'ESC_CA5285AA_AS', 'ESC_CA4089AA_AS',\n",
    "    'ESC_BA7159AA_AS', 'ESC_CA2883AA_AS', 'ESC_AA8910AA_AS',\n",
    "    'ESC_JA5955AA_AS'\n",
    "]\n",
    "print(samples)"
   ]
  },
  {
   "cell_type": "markdown",
   "metadata": {
    "collapsed": true
   },
   "source": [
    "### Quick investigation to verify bad genomes\n",
    "1. Randomly sample 10 of the bad genomes\n",
    "1. Select the first contig with bp>10000 in each genome\n",
    "1. Find the highest score match in ncbi blast search\n",
    "\n",
    "\n",
    "#### Output format below:\n",
    "* Genome assembly name\n",
    "    * Contig header\n",
    "        * Best match genome description\n",
    "\n",
    "## Output:\n",
    "* ESC_AA8910AA_AS\n",
    "    * NODE_98_length_13711_cov_20.0465_ID_195\n",
    "        * Shigella flexneri 2a str. 301, complete genome\n",
    "* ESC_BA4307AA_AS\n",
    "    * NODE_92_length_16268_cov_17.8584_ID_183\n",
    "        * Shigella sonnei strain CFSAN030807 chromosome, complete genome\n",
    "* ESC_BA7159AA_AS\n",
    "    * NODE_14_length_40012_cov_6.28077_ID_27\n",
    "        * Select seq gb|CP011511.1|\tShigella boydii strain ATCC 9210, complete genome\n",
    "* ESC_BA9048AA_AS\n",
    "    * NODE_4_length_73392_cov_10.6272_ID_7\n",
    "        * Shigella flexneri 4c strain 0702, complete genome\t\n",
    "* ESC_CA2883AA_AS\n",
    "    * NODE_37_length_34263_cov_15.3969_ID_73\n",
    "        * Shigella sonnei strain CFSAN030807 chromosome, complete genome\n",
    "* ESC_CA4089AA_AS\n",
    "    * NODE_171_length_7659_cov_13.2305_ID_341\n",
    "        * Select seq gb|CP023645.1|\tShigella sonnei strain CFSAN030807 chromosome, complete genome\n",
    "* ESC_CA5285AA_AS\n",
    "    * NODE_31_length_37642_cov_17.5252_ID_61\n",
    "        * Select seq gb|CP022457.1|\tShigella sonnei strain 2015C-3566, complete genome\n",
    "* ESC_GA7863AA_AS\n",
    "    * NODE_44_length_28919_cov_3.21009_ID_87\n",
    "        * Shigella sonnei strain CFSAN030807 chromosome, complete genome\n",
    "* ESC_JA5955AA_AS\n",
    "    * NODE_110_length_13533_cov_4.26666\n",
    "        * Shigella boydii strain ATCC 9210, complete genome\n",
    "* ESC_KA3487AA_AS\n",
    "    * NODE_107_length_12436_cov_9.79464\n",
    "        * Shigella flexneri Shi06HN006, complete genome"
   ]
  },
  {
   "cell_type": "code",
   "execution_count": 8,
   "metadata": {
    "collapsed": true
   },
   "outputs": [],
   "source": [
    "# Mash identification to find best match. Slow (~90 seconds per genome)\n",
    "'''\n",
    "import sys, os\n",
    "from tqdm import tqdm\n",
    "ectyper_dir = '/home/sam/Projects/ecoli_serotyping'\n",
    "sys.path.append(ectyper_dir)\n",
    "from ectyper import speciesIdentification\n",
    "sample_dir = 'sample'\n",
    "species_results = {}\n",
    "for sample in tqdm(samples):\n",
    "    sample_file = os.path.join(sample_dir, sample+'.fasta')\n",
    "    species_results[sample]=speciesIdentification.get_species(sample_file)\n",
    "'''\n",
    "species_results = {'ESC_BA9048AA_AS': '[310 seqs] NZ_AZPN01000001.1 Shigella flexneri 2002021 2002021_0001, whole genome shotgun sequence [...]\\n', 'ESC_BA4307AA_AS': '[407 seqs] NZ_CWTD01000001.1 Shigella sonnei strain 38101ss_1, whole genome shotgun sequence [...]\\n', 'ESC_KA3487AA_AS': '[336 seqs] NZ_LPSY01000009.1 Shigella boydii strain 100706 100706_10, whole genome shotgun sequence [...]\\n', 'ESC_GA7863AA_AS': '[421 seqs] NZ_CXEQ01000001.1 Shigella sonnei strain 20052631_1361398, whole genome shotgun sequence [...]\\n', 'ESC_CA5285AA_AS': '[394 seqs] NZ_CWWB01000001.1 Shigella sonnei strain 201403955_1, whole genome shotgun sequence [...]\\n', 'ESC_CA4089AA_AS': '[347 seqs] NZ_CXAT01000001.1 Shigella sonnei strain Sh62542_401057, whole genome shotgun sequence [...]\\n', 'ESC_BA7159AA_AS': '[924 seqs] NZ_LPTC01000009.1 Shigella boydii strain 603122 603122_10, whole genome shotgun sequence [...]\\n', 'ESC_CA2883AA_AS': '[443 seqs] NZ_CXGM01000001.1 Shigella sonnei strain H112920489, whole genome shotgun sequence [...]\\n', 'ESC_AA8910AA_AS': 'NZ_CP004056.1 Shigella flexneri 2003036, complete genome\\n', 'ESC_JA5955AA_AS': '[644 seqs] NZ_MIIX01000001.1 Shigella sp. FC1708 NODE_100_length_14432_cov_26.0267_ID_199, whole genome shotgun sequence [...]\\n'}"
   ]
  },
  {
   "cell_type": "code",
   "execution_count": 9,
   "metadata": {},
   "outputs": [
    {
     "name": "stdout",
     "output_type": "stream",
     "text": [
      "{'ESC_AA8910AA_AS': 'NZ_CP004056.1 Shigella flexneri 2003036, complete '\n",
      "                    'genome\\n',\n",
      " 'ESC_BA4307AA_AS': '[407 seqs] NZ_CWTD01000001.1 Shigella sonnei strain '\n",
      "                    '38101ss_1, whole genome shotgun sequence [...]\\n',\n",
      " 'ESC_BA7159AA_AS': '[924 seqs] NZ_LPTC01000009.1 Shigella boydii strain '\n",
      "                    '603122 603122_10, whole genome shotgun sequence [...]\\n',\n",
      " 'ESC_BA9048AA_AS': '[310 seqs] NZ_AZPN01000001.1 Shigella flexneri 2002021 '\n",
      "                    '2002021_0001, whole genome shotgun sequence [...]\\n',\n",
      " 'ESC_CA2883AA_AS': '[443 seqs] NZ_CXGM01000001.1 Shigella sonnei strain '\n",
      "                    'H112920489, whole genome shotgun sequence [...]\\n',\n",
      " 'ESC_CA4089AA_AS': '[347 seqs] NZ_CXAT01000001.1 Shigella sonnei strain '\n",
      "                    'Sh62542_401057, whole genome shotgun sequence [...]\\n',\n",
      " 'ESC_CA5285AA_AS': '[394 seqs] NZ_CWWB01000001.1 Shigella sonnei strain '\n",
      "                    '201403955_1, whole genome shotgun sequence [...]\\n',\n",
      " 'ESC_GA7863AA_AS': '[421 seqs] NZ_CXEQ01000001.1 Shigella sonnei strain '\n",
      "                    '20052631_1361398, whole genome shotgun sequence [...]\\n',\n",
      " 'ESC_JA5955AA_AS': '[644 seqs] NZ_MIIX01000001.1 Shigella sp. FC1708 '\n",
      "                    'NODE_100_length_14432_cov_26.0267_ID_199, whole genome '\n",
      "                    'shotgun sequence [...]\\n',\n",
      " 'ESC_KA3487AA_AS': '[336 seqs] NZ_LPSY01000009.1 Shigella boydii strain '\n",
      "                    '100706 100706_10, whole genome shotgun sequence [...]\\n'}\n"
     ]
    }
   ],
   "source": [
    "from pprint import pprint\n",
    "pprint(species_results)"
   ]
  },
  {
   "cell_type": "markdown",
   "metadata": {},
   "source": [
    "## Cross-examination with mash identification\n",
    "* Mash identification on 5844 serotyped genomes"
   ]
  },
  {
   "cell_type": "code",
   "execution_count": 10,
   "metadata": {},
   "outputs": [
    {
     "data": {
      "text/html": [
       "<div>\n",
       "<style>\n",
       "    .dataframe thead tr:only-child th {\n",
       "        text-align: right;\n",
       "    }\n",
       "\n",
       "    .dataframe thead th {\n",
       "        text-align: left;\n",
       "    }\n",
       "\n",
       "    .dataframe tbody tr th {\n",
       "        vertical-align: top;\n",
       "    }\n",
       "</style>\n",
       "<table border=\"1\" class=\"dataframe\">\n",
       "  <thead>\n",
       "    <tr style=\"text-align: right;\">\n",
       "      <th></th>\n",
       "      <th>genome name</th>\n",
       "      <th>species</th>\n",
       "    </tr>\n",
       "  </thead>\n",
       "  <tbody>\n",
       "    <tr>\n",
       "      <th>count</th>\n",
       "      <td>5844</td>\n",
       "      <td>5844</td>\n",
       "    </tr>\n",
       "    <tr>\n",
       "      <th>unique</th>\n",
       "      <td>5844</td>\n",
       "      <td>615</td>\n",
       "    </tr>\n",
       "    <tr>\n",
       "      <th>top</th>\n",
       "      <td>ESC_HA6440AA_AS</td>\n",
       "      <td>Escherichia coli</td>\n",
       "    </tr>\n",
       "    <tr>\n",
       "      <th>freq</th>\n",
       "      <td>1</td>\n",
       "      <td>3023</td>\n",
       "    </tr>\n",
       "  </tbody>\n",
       "</table>\n",
       "</div>"
      ],
      "text/plain": [
       "            genome name           species\n",
       "count              5844              5844\n",
       "unique             5844               615\n",
       "top     ESC_HA6440AA_AS  Escherichia coli\n",
       "freq                  1              3023"
      ]
     },
     "execution_count": 10,
     "metadata": {},
     "output_type": "execute_result"
    }
   ],
   "source": [
    "# Load data from result csv file\n",
    "species_result_file = 'species_results.csv'\n",
    "mash_df = pd.read_csv(species_result_file)\n",
    "mash_df = pd.concat([mash_df['genome name'].str.replace('(.fasta)',''), mash_df['species']], axis=1)\n",
    "mash_df.describe()"
   ]
  },
  {
   "cell_type": "code",
   "execution_count": 11,
   "metadata": {},
   "outputs": [
    {
     "data": {
      "text/html": [
       "<div>\n",
       "<style>\n",
       "    .dataframe thead tr:only-child th {\n",
       "        text-align: right;\n",
       "    }\n",
       "\n",
       "    .dataframe thead th {\n",
       "        text-align: left;\n",
       "    }\n",
       "\n",
       "    .dataframe tbody tr th {\n",
       "        vertical-align: top;\n",
       "    }\n",
       "</style>\n",
       "<table border=\"1\" class=\"dataframe\">\n",
       "  <thead>\n",
       "    <tr style=\"text-align: right;\">\n",
       "      <th></th>\n",
       "      <th>genome name</th>\n",
       "      <th>species</th>\n",
       "    </tr>\n",
       "  </thead>\n",
       "  <tbody>\n",
       "    <tr>\n",
       "      <th>385</th>\n",
       "      <td>ESC_GA9171AA_AS</td>\n",
       "      <td>Shigella boydii</td>\n",
       "    </tr>\n",
       "    <tr>\n",
       "      <th>388</th>\n",
       "      <td>ESC_HA8555AA_AS</td>\n",
       "      <td>Shigella boydii</td>\n",
       "    </tr>\n",
       "    <tr>\n",
       "      <th>840</th>\n",
       "      <td>ESC_GA8957AA_AS</td>\n",
       "      <td>Shigella sp. FC569</td>\n",
       "    </tr>\n",
       "    <tr>\n",
       "      <th>1326</th>\n",
       "      <td>ESC_GA9449AA_AS</td>\n",
       "      <td>Shigella sp. FC2045</td>\n",
       "    </tr>\n",
       "    <tr>\n",
       "      <th>1556</th>\n",
       "      <td>ESC_FA8178AA_AS</td>\n",
       "      <td>Shigella dysenteriae S6205</td>\n",
       "    </tr>\n",
       "    <tr>\n",
       "      <th>1884</th>\n",
       "      <td>ESC_HA7770AA_AS</td>\n",
       "      <td>Shigella boydii</td>\n",
       "    </tr>\n",
       "    <tr>\n",
       "      <th>2455</th>\n",
       "      <td>ESC_HA7790AA_AS</td>\n",
       "      <td>Shigella boydii</td>\n",
       "    </tr>\n",
       "    <tr>\n",
       "      <th>3422</th>\n",
       "      <td>ESC_GA9425AA_AS</td>\n",
       "      <td>Shigella boydii</td>\n",
       "    </tr>\n",
       "    <tr>\n",
       "      <th>4559</th>\n",
       "      <td>ESC_HA8000AA_AS</td>\n",
       "      <td>Shigella boydii</td>\n",
       "    </tr>\n",
       "    <tr>\n",
       "      <th>4685</th>\n",
       "      <td>ESC_GA8499AA_AS</td>\n",
       "      <td>Shigella sonnei</td>\n",
       "    </tr>\n",
       "    <tr>\n",
       "      <th>5785</th>\n",
       "      <td>ESC_HA8399AA_AS</td>\n",
       "      <td>Shigella boydii</td>\n",
       "    </tr>\n",
       "  </tbody>\n",
       "</table>\n",
       "</div>"
      ],
      "text/plain": [
       "          genome name                     species\n",
       "385   ESC_GA9171AA_AS             Shigella boydii\n",
       "388   ESC_HA8555AA_AS             Shigella boydii\n",
       "840   ESC_GA8957AA_AS          Shigella sp. FC569\n",
       "1326  ESC_GA9449AA_AS         Shigella sp. FC2045\n",
       "1556  ESC_FA8178AA_AS  Shigella dysenteriae S6205\n",
       "1884  ESC_HA7770AA_AS             Shigella boydii\n",
       "2455  ESC_HA7790AA_AS             Shigella boydii\n",
       "3422  ESC_GA9425AA_AS             Shigella boydii\n",
       "4559  ESC_HA8000AA_AS             Shigella boydii\n",
       "4685  ESC_GA8499AA_AS             Shigella sonnei\n",
       "5785  ESC_HA8399AA_AS             Shigella boydii"
      ]
     },
     "execution_count": 11,
     "metadata": {},
     "output_type": "execute_result"
    }
   ],
   "source": [
    "# Find all rows with Shiegella\n",
    "mash_df[mash_df['species'].str.find('Shigella')!=-1]"
   ]
  },
  {
   "cell_type": "code",
   "execution_count": 12,
   "metadata": {},
   "outputs": [
    {
     "data": {
      "text/html": [
       "<div>\n",
       "<style>\n",
       "    .dataframe thead tr:only-child th {\n",
       "        text-align: right;\n",
       "    }\n",
       "\n",
       "    .dataframe thead th {\n",
       "        text-align: left;\n",
       "    }\n",
       "\n",
       "    .dataframe tbody tr th {\n",
       "        vertical-align: top;\n",
       "    }\n",
       "</style>\n",
       "<table border=\"1\" class=\"dataframe\">\n",
       "  <thead>\n",
       "    <tr style=\"text-align: right;\">\n",
       "      <th></th>\n",
       "      <th>genome name</th>\n",
       "      <th>species</th>\n",
       "    </tr>\n",
       "  </thead>\n",
       "  <tbody>\n",
       "    <tr>\n",
       "      <th>1791</th>\n",
       "      <td>ESC_HA7408AA_AS</td>\n",
       "      <td>Achromobacter sp. ATCC35328</td>\n",
       "    </tr>\n",
       "  </tbody>\n",
       "</table>\n",
       "</div>"
      ],
      "text/plain": [
       "          genome name                      species\n",
       "1791  ESC_HA7408AA_AS  Achromobacter sp. ATCC35328"
      ]
     },
     "execution_count": 12,
     "metadata": {},
     "output_type": "execute_result"
    }
   ],
   "source": [
    "# Find all rows that is neither Escherichia nor Shigella\n",
    "s1 = mash_df['species'].str.find('Escherichia')!=-1\n",
    "s2 = mash_df['species'].str.find('Shigella')!=-1\n",
    "mash_df[~s1 & ~s2]"
   ]
  },
  {
   "cell_type": "code",
   "execution_count": 13,
   "metadata": {},
   "outputs": [
    {
     "data": {
      "text/html": [
       "<div>\n",
       "<style>\n",
       "    .dataframe thead tr:only-child th {\n",
       "        text-align: right;\n",
       "    }\n",
       "\n",
       "    .dataframe thead th {\n",
       "        text-align: left;\n",
       "    }\n",
       "\n",
       "    .dataframe tbody tr th {\n",
       "        vertical-align: top;\n",
       "    }\n",
       "</style>\n",
       "<table border=\"1\" class=\"dataframe\">\n",
       "  <thead>\n",
       "    <tr style=\"text-align: right;\">\n",
       "      <th></th>\n",
       "      <th>genome name</th>\n",
       "      <th>species</th>\n",
       "      <th>num of hits</th>\n",
       "    </tr>\n",
       "  </thead>\n",
       "  <tbody>\n",
       "    <tr>\n",
       "      <th>0</th>\n",
       "      <td>ESC_HA7792AA_AS</td>\n",
       "      <td>Escherichia coli</td>\n",
       "      <td>10</td>\n",
       "    </tr>\n",
       "    <tr>\n",
       "      <th>1</th>\n",
       "      <td>ESC_HA9975AA_AS</td>\n",
       "      <td>Escherichia coli</td>\n",
       "      <td>9</td>\n",
       "    </tr>\n",
       "    <tr>\n",
       "      <th>2</th>\n",
       "      <td>ESC_HA7457AA_AS</td>\n",
       "      <td>Escherichia coli B93</td>\n",
       "      <td>10</td>\n",
       "    </tr>\n",
       "    <tr>\n",
       "      <th>3</th>\n",
       "      <td>ESC_IA1636AA_AS</td>\n",
       "      <td>Escherichia coli</td>\n",
       "      <td>10</td>\n",
       "    </tr>\n",
       "    <tr>\n",
       "      <th>4</th>\n",
       "      <td>ESC_HA7911AA_AS</td>\n",
       "      <td>Escherichia coli</td>\n",
       "      <td>10</td>\n",
       "    </tr>\n",
       "  </tbody>\n",
       "</table>\n",
       "</div>"
      ],
      "text/plain": [
       "       genome name               species  num of hits\n",
       "0  ESC_HA7792AA_AS      Escherichia coli           10\n",
       "1  ESC_HA9975AA_AS      Escherichia coli            9\n",
       "2  ESC_HA7457AA_AS  Escherichia coli B93           10\n",
       "3  ESC_IA1636AA_AS      Escherichia coli           10\n",
       "4  ESC_HA7911AA_AS      Escherichia coli           10"
      ]
     },
     "execution_count": 13,
     "metadata": {},
     "output_type": "execute_result"
    }
   ],
   "source": [
    "# Merge mash result with alignment hits result (inner join)\n",
    "total_hit_df = pd.DataFrame(total_hit_s, columns=['num of hits'])\n",
    "merge_df = mash_df.merge(total_hit_df, left_on='genome name', right_index=True, how='inner')\n",
    "merge_df.head()"
   ]
  },
  {
   "cell_type": "code",
   "execution_count": 14,
   "metadata": {},
   "outputs": [
    {
     "data": {
      "text/html": [
       "<div>\n",
       "<style>\n",
       "    .dataframe thead tr:only-child th {\n",
       "        text-align: right;\n",
       "    }\n",
       "\n",
       "    .dataframe thead th {\n",
       "        text-align: left;\n",
       "    }\n",
       "\n",
       "    .dataframe tbody tr th {\n",
       "        vertical-align: top;\n",
       "    }\n",
       "</style>\n",
       "<table border=\"1\" class=\"dataframe\">\n",
       "  <thead>\n",
       "    <tr style=\"text-align: right;\">\n",
       "      <th></th>\n",
       "      <th>genome name</th>\n",
       "      <th>species</th>\n",
       "      <th>num of hits</th>\n",
       "    </tr>\n",
       "  </thead>\n",
       "  <tbody>\n",
       "    <tr>\n",
       "      <th>167</th>\n",
       "      <td>ESC_HA8355AA_AS</td>\n",
       "      <td>Escherichia albertii</td>\n",
       "      <td>1</td>\n",
       "    </tr>\n",
       "    <tr>\n",
       "      <th>561</th>\n",
       "      <td>ESC_HA1816AA_AS</td>\n",
       "      <td>Escherichia coli</td>\n",
       "      <td>2</td>\n",
       "    </tr>\n",
       "    <tr>\n",
       "      <th>1208</th>\n",
       "      <td>ESC_FA8269AA_AS</td>\n",
       "      <td>Escherichia coli</td>\n",
       "      <td>2</td>\n",
       "    </tr>\n",
       "    <tr>\n",
       "      <th>1927</th>\n",
       "      <td>ESC_FA8252AA_AS</td>\n",
       "      <td>Escherichia coli</td>\n",
       "      <td>2</td>\n",
       "    </tr>\n",
       "    <tr>\n",
       "      <th>2003</th>\n",
       "      <td>ESC_GA9117AA_AS</td>\n",
       "      <td>Escherichia coli</td>\n",
       "      <td>2</td>\n",
       "    </tr>\n",
       "    <tr>\n",
       "      <th>2181</th>\n",
       "      <td>ESC_FA8267AA_AS</td>\n",
       "      <td>Escherichia coli</td>\n",
       "      <td>2</td>\n",
       "    </tr>\n",
       "    <tr>\n",
       "      <th>2201</th>\n",
       "      <td>ESC_GA9416AA_AS</td>\n",
       "      <td>Escherichia coli</td>\n",
       "      <td>2</td>\n",
       "    </tr>\n",
       "    <tr>\n",
       "      <th>2305</th>\n",
       "      <td>ESC_FA8264AA_AS</td>\n",
       "      <td>Escherichia coli</td>\n",
       "      <td>1</td>\n",
       "    </tr>\n",
       "    <tr>\n",
       "      <th>2333</th>\n",
       "      <td>ESC_GA9385AA_AS</td>\n",
       "      <td>Escherichia coli</td>\n",
       "      <td>2</td>\n",
       "    </tr>\n",
       "    <tr>\n",
       "      <th>3422</th>\n",
       "      <td>ESC_GA9425AA_AS</td>\n",
       "      <td>Shigella boydii</td>\n",
       "      <td>0</td>\n",
       "    </tr>\n",
       "    <tr>\n",
       "      <th>4192</th>\n",
       "      <td>ESC_GA4670AA_AS</td>\n",
       "      <td>Escherichia coli DSM 30083 = JCM 1649 = ATCC 1...</td>\n",
       "      <td>0</td>\n",
       "    </tr>\n",
       "    <tr>\n",
       "      <th>4361</th>\n",
       "      <td>ESC_GA8938AA_AS</td>\n",
       "      <td>Escherichia coli</td>\n",
       "      <td>2</td>\n",
       "    </tr>\n",
       "    <tr>\n",
       "      <th>4685</th>\n",
       "      <td>ESC_GA8499AA_AS</td>\n",
       "      <td>Shigella sonnei</td>\n",
       "      <td>0</td>\n",
       "    </tr>\n",
       "    <tr>\n",
       "      <th>4807</th>\n",
       "      <td>ESC_GA8887AA_AS</td>\n",
       "      <td>Escherichia albertii</td>\n",
       "      <td>1</td>\n",
       "    </tr>\n",
       "    <tr>\n",
       "      <th>5083</th>\n",
       "      <td>ESC_GA9123AA_AS</td>\n",
       "      <td>Escherichia coli</td>\n",
       "      <td>2</td>\n",
       "    </tr>\n",
       "    <tr>\n",
       "      <th>5313</th>\n",
       "      <td>ESC_HA8509AA_AS</td>\n",
       "      <td>Escherichia albertii</td>\n",
       "      <td>1</td>\n",
       "    </tr>\n",
       "    <tr>\n",
       "      <th>5667</th>\n",
       "      <td>ESC_GA9075AA_AS</td>\n",
       "      <td>Escherichia coli O28ac:NM str. 02-3404</td>\n",
       "      <td>1</td>\n",
       "    </tr>\n",
       "    <tr>\n",
       "      <th>5747</th>\n",
       "      <td>ESC_GA9074AA_AS</td>\n",
       "      <td>Escherichia coli</td>\n",
       "      <td>2</td>\n",
       "    </tr>\n",
       "  </tbody>\n",
       "</table>\n",
       "</div>"
      ],
      "text/plain": [
       "          genome name                                            species  \\\n",
       "167   ESC_HA8355AA_AS                               Escherichia albertii   \n",
       "561   ESC_HA1816AA_AS                                   Escherichia coli   \n",
       "1208  ESC_FA8269AA_AS                                   Escherichia coli   \n",
       "1927  ESC_FA8252AA_AS                                   Escherichia coli   \n",
       "2003  ESC_GA9117AA_AS                                   Escherichia coli   \n",
       "2181  ESC_FA8267AA_AS                                   Escherichia coli   \n",
       "2201  ESC_GA9416AA_AS                                   Escherichia coli   \n",
       "2305  ESC_FA8264AA_AS                                   Escherichia coli   \n",
       "2333  ESC_GA9385AA_AS                                   Escherichia coli   \n",
       "3422  ESC_GA9425AA_AS                                    Shigella boydii   \n",
       "4192  ESC_GA4670AA_AS  Escherichia coli DSM 30083 = JCM 1649 = ATCC 1...   \n",
       "4361  ESC_GA8938AA_AS                                   Escherichia coli   \n",
       "4685  ESC_GA8499AA_AS                                    Shigella sonnei   \n",
       "4807  ESC_GA8887AA_AS                               Escherichia albertii   \n",
       "5083  ESC_GA9123AA_AS                                   Escherichia coli   \n",
       "5313  ESC_HA8509AA_AS                               Escherichia albertii   \n",
       "5667  ESC_GA9075AA_AS             Escherichia coli O28ac:NM str. 02-3404   \n",
       "5747  ESC_GA9074AA_AS                                   Escherichia coli   \n",
       "\n",
       "      num of hits  \n",
       "167             1  \n",
       "561             2  \n",
       "1208            2  \n",
       "1927            2  \n",
       "2003            2  \n",
       "2181            2  \n",
       "2201            2  \n",
       "2305            1  \n",
       "2333            2  \n",
       "3422            0  \n",
       "4192            0  \n",
       "4361            2  \n",
       "4685            0  \n",
       "4807            1  \n",
       "5083            2  \n",
       "5313            1  \n",
       "5667            1  \n",
       "5747            2  "
      ]
     },
     "execution_count": 14,
     "metadata": {},
     "output_type": "execute_result"
    }
   ],
   "source": [
    "# Find all rows that is not Escherichia by predictor alignment\n",
    "merge_df[merge_df['num of hits'].isin((range(3)))]"
   ]
  },
  {
   "cell_type": "code",
   "execution_count": 15,
   "metadata": {},
   "outputs": [
    {
     "data": {
      "text/html": [
       "<div>\n",
       "<style>\n",
       "    .dataframe thead tr:only-child th {\n",
       "        text-align: right;\n",
       "    }\n",
       "\n",
       "    .dataframe thead th {\n",
       "        text-align: left;\n",
       "    }\n",
       "\n",
       "    .dataframe tbody tr th {\n",
       "        vertical-align: top;\n",
       "    }\n",
       "</style>\n",
       "<table border=\"1\" class=\"dataframe\">\n",
       "  <thead>\n",
       "    <tr style=\"text-align: right;\">\n",
       "      <th></th>\n",
       "      <th>genome name</th>\n",
       "      <th>species</th>\n",
       "      <th>num of hits</th>\n",
       "    </tr>\n",
       "  </thead>\n",
       "  <tbody>\n",
       "    <tr>\n",
       "      <th>385</th>\n",
       "      <td>ESC_GA9171AA_AS</td>\n",
       "      <td>Shigella boydii</td>\n",
       "      <td>9</td>\n",
       "    </tr>\n",
       "    <tr>\n",
       "      <th>388</th>\n",
       "      <td>ESC_HA8555AA_AS</td>\n",
       "      <td>Shigella boydii</td>\n",
       "      <td>8</td>\n",
       "    </tr>\n",
       "    <tr>\n",
       "      <th>840</th>\n",
       "      <td>ESC_GA8957AA_AS</td>\n",
       "      <td>Shigella sp. FC569</td>\n",
       "      <td>8</td>\n",
       "    </tr>\n",
       "    <tr>\n",
       "      <th>1326</th>\n",
       "      <td>ESC_GA9449AA_AS</td>\n",
       "      <td>Shigella sp. FC2045</td>\n",
       "      <td>8</td>\n",
       "    </tr>\n",
       "    <tr>\n",
       "      <th>1556</th>\n",
       "      <td>ESC_FA8178AA_AS</td>\n",
       "      <td>Shigella dysenteriae S6205</td>\n",
       "      <td>7</td>\n",
       "    </tr>\n",
       "    <tr>\n",
       "      <th>1791</th>\n",
       "      <td>ESC_HA7408AA_AS</td>\n",
       "      <td>Achromobacter sp. ATCC35328</td>\n",
       "      <td>10</td>\n",
       "    </tr>\n",
       "    <tr>\n",
       "      <th>1884</th>\n",
       "      <td>ESC_HA7770AA_AS</td>\n",
       "      <td>Shigella boydii</td>\n",
       "      <td>10</td>\n",
       "    </tr>\n",
       "    <tr>\n",
       "      <th>2455</th>\n",
       "      <td>ESC_HA7790AA_AS</td>\n",
       "      <td>Shigella boydii</td>\n",
       "      <td>10</td>\n",
       "    </tr>\n",
       "    <tr>\n",
       "      <th>3422</th>\n",
       "      <td>ESC_GA9425AA_AS</td>\n",
       "      <td>Shigella boydii</td>\n",
       "      <td>0</td>\n",
       "    </tr>\n",
       "    <tr>\n",
       "      <th>4559</th>\n",
       "      <td>ESC_HA8000AA_AS</td>\n",
       "      <td>Shigella boydii</td>\n",
       "      <td>7</td>\n",
       "    </tr>\n",
       "    <tr>\n",
       "      <th>4685</th>\n",
       "      <td>ESC_GA8499AA_AS</td>\n",
       "      <td>Shigella sonnei</td>\n",
       "      <td>0</td>\n",
       "    </tr>\n",
       "    <tr>\n",
       "      <th>5785</th>\n",
       "      <td>ESC_HA8399AA_AS</td>\n",
       "      <td>Shigella boydii</td>\n",
       "      <td>10</td>\n",
       "    </tr>\n",
       "  </tbody>\n",
       "</table>\n",
       "</div>"
      ],
      "text/plain": [
       "          genome name                      species  num of hits\n",
       "385   ESC_GA9171AA_AS              Shigella boydii            9\n",
       "388   ESC_HA8555AA_AS              Shigella boydii            8\n",
       "840   ESC_GA8957AA_AS           Shigella sp. FC569            8\n",
       "1326  ESC_GA9449AA_AS          Shigella sp. FC2045            8\n",
       "1556  ESC_FA8178AA_AS   Shigella dysenteriae S6205            7\n",
       "1791  ESC_HA7408AA_AS  Achromobacter sp. ATCC35328           10\n",
       "1884  ESC_HA7770AA_AS              Shigella boydii           10\n",
       "2455  ESC_HA7790AA_AS              Shigella boydii           10\n",
       "3422  ESC_GA9425AA_AS              Shigella boydii            0\n",
       "4559  ESC_HA8000AA_AS              Shigella boydii            7\n",
       "4685  ESC_GA8499AA_AS              Shigella sonnei            0\n",
       "5785  ESC_HA8399AA_AS              Shigella boydii           10"
      ]
     },
     "execution_count": 15,
     "metadata": {},
     "output_type": "execute_result"
    }
   ],
   "source": [
    "# Find all rows that is not Escherichia based on mash identification\n",
    "merge_df[merge_df['species'].str.find('Escherichia')==-1]"
   ]
  },
  {
   "cell_type": "code",
   "execution_count": null,
   "metadata": {
    "collapsed": true
   },
   "outputs": [],
   "source": []
  }
 ],
 "metadata": {
  "kernelspec": {
   "display_name": "Python 3",
   "language": "python",
   "name": "python3"
  },
  "language_info": {
   "codemirror_mode": {
    "name": "ipython",
    "version": 3
   },
   "file_extension": ".py",
   "mimetype": "text/x-python",
   "name": "python",
   "nbconvert_exporter": "python",
   "pygments_lexer": "ipython3",
   "version": "3.6.2"
  }
 },
 "nbformat": 4,
 "nbformat_minor": 2
}
