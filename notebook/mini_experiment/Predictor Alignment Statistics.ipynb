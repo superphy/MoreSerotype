{
 "cells": [
  {
   "cell_type": "markdown",
   "metadata": {},
   "source": [
    "# Analysis of E. Coli predictor markers\n",
    "* Predictor alignment on 52677 genomes"
   ]
  },
  {
   "cell_type": "code",
   "execution_count": 1,
   "metadata": {
    "collapsed": true
   },
   "outputs": [],
   "source": [
    "# Essential Libs\n",
    "import pandas as pd\n",
    "import numpy as np\n",
    "import matplotlib.pyplot as plt"
   ]
  },
  {
   "cell_type": "code",
   "execution_count": null,
   "metadata": {
    "collapsed": true
   },
   "outputs": [],
   "source": [
    "# Data set\n",
    "predictor_df = pd.read_csv('gene_presence_report.csv', index_col=0)"
   ]
  },
  {
   "cell_type": "code",
   "execution_count": null,
   "metadata": {
    "collapsed": true
   },
   "outputs": [],
   "source": [
    "# Num of hits per predictor marker\n",
    "per_marker_df = predictor_df.sum(axis=0)\n",
    "print(per_marker_df)\n",
    "plt.figure()\n",
    "per_marker_df.plot(kind='bar')\n",
    "plt.show()"
   ]
  },
  {
   "cell_type": "code",
   "execution_count": null,
   "metadata": {
    "collapsed": true
   },
   "outputs": [],
   "source": [
    "# Summary of total hits per genome\n",
    "total_hit_s = predictor_df.sum(axis=1)\n",
    "total_hit_s.describe()"
   ]
  },
  {
   "cell_type": "code",
   "execution_count": null,
   "metadata": {
    "collapsed": true
   },
   "outputs": [],
   "source": [
    "# Summary of genome count per number of hits\n",
    "val_count_s = total_hit_s.value_counts().sort_index()\n",
    "print(val_count_s)\n",
    "val_count_s.plot(kind='bar')\n",
    "plt.show()"
   ]
  },
  {
   "cell_type": "code",
   "execution_count": null,
   "metadata": {
    "collapsed": true
   },
   "outputs": [],
   "source": [
    "# List genomes that do not meet threshold (3)\n",
    "bad_genomes_s = total_hit_s[total_hit_s.isin(range(3))].index\n",
    "bad_genomes_df = pd.DataFrame(bad_genomes_s)\n",
    "bad_genomes_df.to_csv('bad_genomes.csv')"
   ]
  },
  {
   "cell_type": "code",
   "execution_count": null,
   "metadata": {
    "collapsed": true
   },
   "outputs": [],
   "source": [
    "# Choose 10 at random\n",
    "'''\n",
    "import random\n",
    "samples = random.sample(bad_genomes, 10)\n",
    "'''\n",
    "samples = [\n",
    "    'ESC_BA9048AA_AS', 'ESC_BA4307AA_AS', 'ESC_KA3487AA_AS',\n",
    "    'ESC_GA7863AA_AS', 'ESC_CA5285AA_AS', 'ESC_CA4089AA_AS',\n",
    "    'ESC_BA7159AA_AS', 'ESC_CA2883AA_AS', 'ESC_AA8910AA_AS',\n",
    "    'ESC_JA5955AA_AS'\n",
    "]\n",
    "print(samples)"
   ]
  },
  {
   "cell_type": "markdown",
   "metadata": {
    "collapsed": true
   },
   "source": [
    "### Quick investigation to verify bad genomes\n",
    "1. Randomly sample 10 of the bad genomes\n",
    "1. Select the first contig with bp>10000 in each genome\n",
    "1. Find the highest score match in ncbi blast search\n",
    "\n",
    "\n",
    "#### Output format below:\n",
    "* Genome assembly name\n",
    "    * Contig header\n",
    "        * Best match genome description\n",
    "\n",
    "## Output:\n",
    "* ESC_AA8910AA_AS\n",
    "    * NODE_98_length_13711_cov_20.0465_ID_195\n",
    "        * Shigella flexneri 2a str. 301, complete genome\n",
    "* ESC_BA4307AA_AS\n",
    "    * NODE_92_length_16268_cov_17.8584_ID_183\n",
    "        * Shigella sonnei strain CFSAN030807 chromosome, complete genome\n",
    "* ESC_BA7159AA_AS\n",
    "    * NODE_14_length_40012_cov_6.28077_ID_27\n",
    "        * Select seq gb|CP011511.1|\tShigella boydii strain ATCC 9210, complete genome\n",
    "* ESC_BA9048AA_AS\n",
    "    * NODE_4_length_73392_cov_10.6272_ID_7\n",
    "        * Shigella flexneri 4c strain 0702, complete genome\t\n",
    "* ESC_CA2883AA_AS\n",
    "    * NODE_37_length_34263_cov_15.3969_ID_73\n",
    "        * Shigella sonnei strain CFSAN030807 chromosome, complete genome\n",
    "* ESC_CA4089AA_AS\n",
    "    * NODE_171_length_7659_cov_13.2305_ID_341\n",
    "        * Select seq gb|CP023645.1|\tShigella sonnei strain CFSAN030807 chromosome, complete genome\n",
    "* ESC_CA5285AA_AS\n",
    "    * NODE_31_length_37642_cov_17.5252_ID_61\n",
    "        * Select seq gb|CP022457.1|\tShigella sonnei strain 2015C-3566, complete genome\n",
    "* ESC_GA7863AA_AS\n",
    "    * NODE_44_length_28919_cov_3.21009_ID_87\n",
    "        * Shigella sonnei strain CFSAN030807 chromosome, complete genome\n",
    "* ESC_JA5955AA_AS\n",
    "    * NODE_110_length_13533_cov_4.26666\n",
    "        * Shigella boydii strain ATCC 9210, complete genome\n",
    "* ESC_KA3487AA_AS\n",
    "    * NODE_107_length_12436_cov_9.79464\n",
    "        * Shigella flexneri Shi06HN006, complete genome"
   ]
  },
  {
   "cell_type": "code",
   "execution_count": null,
   "metadata": {
    "collapsed": true
   },
   "outputs": [],
   "source": [
    "\n",
    "# Mash identification to find best match. Slow (~90 seconds per genome)\n",
    "'''\n",
    "import sys, os\n",
    "from tqdm import tqdm\n",
    "ectyper_dir = '/home/sam/Projects/ecoli_serotyping'\n",
    "sys.path.append(ectyper_dir)\n",
    "from ectyper import speciesIdentification\n",
    "sample_dir = 'sample'\n",
    "species_results = {}\n",
    "for sample in tqdm(samples):\n",
    "    sample_file = os.path.join(sample_dir, sample+'.fasta')\n",
    "    species_results[sample]=speciesIdentification.get_species(sample_file)\n",
    "'''\n",
    "species_results = {'ESC_BA9048AA_AS': '[310 seqs] NZ_AZPN01000001.1 Shigella flexneri 2002021 2002021_0001, whole genome shotgun sequence [...]\\n', 'ESC_BA4307AA_AS': '[407 seqs] NZ_CWTD01000001.1 Shigella sonnei strain 38101ss_1, whole genome shotgun sequence [...]\\n', 'ESC_KA3487AA_AS': '[336 seqs] NZ_LPSY01000009.1 Shigella boydii strain 100706 100706_10, whole genome shotgun sequence [...]\\n', 'ESC_GA7863AA_AS': '[421 seqs] NZ_CXEQ01000001.1 Shigella sonnei strain 20052631_1361398, whole genome shotgun sequence [...]\\n', 'ESC_CA5285AA_AS': '[394 seqs] NZ_CWWB01000001.1 Shigella sonnei strain 201403955_1, whole genome shotgun sequence [...]\\n', 'ESC_CA4089AA_AS': '[347 seqs] NZ_CXAT01000001.1 Shigella sonnei strain Sh62542_401057, whole genome shotgun sequence [...]\\n', 'ESC_BA7159AA_AS': '[924 seqs] NZ_LPTC01000009.1 Shigella boydii strain 603122 603122_10, whole genome shotgun sequence [...]\\n', 'ESC_CA2883AA_AS': '[443 seqs] NZ_CXGM01000001.1 Shigella sonnei strain H112920489, whole genome shotgun sequence [...]\\n', 'ESC_AA8910AA_AS': 'NZ_CP004056.1 Shigella flexneri 2003036, complete genome\\n', 'ESC_JA5955AA_AS': '[644 seqs] NZ_MIIX01000001.1 Shigella sp. FC1708 NODE_100_length_14432_cov_26.0267_ID_199, whole genome shotgun sequence [...]\\n'}"
   ]
  },
  {
   "cell_type": "code",
   "execution_count": null,
   "metadata": {
    "collapsed": true
   },
   "outputs": [],
   "source": [
    "from pprint import pprint\n",
    "pprint(species_results)"
   ]
  },
  {
   "cell_type": "markdown",
   "metadata": {},
   "source": [
    "# Cross-examination with mash identification\n",
    "* Mash identification on 5844 serotyped genomes"
   ]
  },
  {
   "cell_type": "code",
   "execution_count": null,
   "metadata": {
    "collapsed": true
   },
   "outputs": [],
   "source": [
    "# Load data from result csv file\n",
    "species_result_file = 'species_results.csv'\n",
    "mash_df = pd.read_csv(species_result_file)\n",
    "mash_df = pd.concat([mash_df['genome name'].str.replace('(.fasta)',''), mash_df['species']], axis=1)\n",
    "mash_df.describe()"
   ]
  },
  {
   "cell_type": "code",
   "execution_count": null,
   "metadata": {
    "collapsed": true
   },
   "outputs": [],
   "source": [
    "# Find all rows that is neither Escherichia nor Shigella\n",
    "s1 = mash_df['species'].str.find('Escherichia')!=-1\n",
    "s2 = mash_df['species'].str.find('Shigella')!=-1\n",
    "mash_df[~s1 & ~s2]"
   ]
  },
  {
   "cell_type": "code",
   "execution_count": null,
   "metadata": {
    "collapsed": true
   },
   "outputs": [],
   "source": [
    "# Merge mash result with alignment hits result (inner join)\n",
    "total_hit_df = pd.DataFrame(total_hit_s, columns=['num of hits'])\n",
    "merge_df = mash_df.merge(total_hit_df, left_on='genome name', right_index=True, how='inner')\n",
    "merge_df.describe()"
   ]
  },
  {
   "cell_type": "code",
   "execution_count": null,
   "metadata": {
    "collapsed": true
   },
   "outputs": [],
   "source": [
    "# Find all rows that is not Escherichia by predictor alignment\n",
    "non_ecoli_merge_df1 = merge_df[merge_df['num of hits'].isin((range(3)))]\n",
    "non_ecoli_merge_df1\n",
    "# Explanation: Predictor alignment false negative rate = 16/18"
   ]
  },
  {
   "cell_type": "code",
   "execution_count": null,
   "metadata": {
    "collapsed": true
   },
   "outputs": [],
   "source": [
    "# Find all rows that is not Escherichia based on mash identification\n",
    "non_ecoli_merge_df2 = merge_df[merge_df['species'].str.find('Escherichia')==-1]\n",
    "non_ecoli_merge_df2\n",
    "# Explanation: Mash identification false negative rate = 10/12"
   ]
  },
  {
   "cell_type": "code",
   "execution_count": null,
   "metadata": {
    "collapsed": true
   },
   "outputs": [],
   "source": [
    "genome_dir = '/home/sam/Projects/MoreSerotype/temp/genomes'\n",
    "from Bio import SeqIO\n",
    "import os\n",
    "from tqdm import tqdm\n",
    "non_ecoli_genomes = list(non_ecoli_merge_df1[merge_df['species'].str.find('Escherichia')!=-1].get('genome name'))\n",
    "genome_infos = []\n",
    "for genome in tqdm(non_ecoli_genomes):\n",
    "    genome_file = os.path.join(genome_dir, genome+'.fasta')\n",
    "    entry = {\n",
    "        'genome name': genome\n",
    "    }\n",
    "    l = []\n",
    "    for record in SeqIO.parse(genome_file, 'fasta'):\n",
    "        l.append(str(len(record.seq)))\n",
    "    entry['lengths'] = ','.join(l)\n",
    "    entry['count'] = len(l)\n",
    "    genome_infos.append(entry)\n",
    "quality_df = pd.DataFrame(genome_infos)\n",
    "quality_df = quality_df.set_index('genome name')\n",
    "quality_df.median()"
   ]
  },
  {
   "cell_type": "code",
   "execution_count": null,
   "metadata": {
    "collapsed": true
   },
   "outputs": [],
   "source": [
    "genome_dir = '/home/sam/moria/enterobase_db'\n",
    "from Bio import SeqIO\n",
    "from tqdm import tqdm\n",
    "non_ecoli_genomes = list(non_ecoli_merge_df2[~merge_df['num of hits'].isin((range(3)))].get('genome name'))\n",
    "genome_infos = []\n",
    "for genome in tqdm(non_ecoli_genomes):\n",
    "    genome_file = os.path.join(genome_dir, genome+'.fasta')\n",
    "    entry = {\n",
    "        'genome name': genome\n",
    "    }\n",
    "    l = []\n",
    "    for record in SeqIO.parse(genome_file, 'fasta'):\n",
    "        l.append(str(len(record.seq)))\n",
    "    entry['lengths'] = ','.join(l)\n",
    "    entry['count'] = len(l)\n",
    "    genome_infos.append(entry)\n",
    "quality_df = pd.DataFrame(genome_infos)\n",
    "quality_df = quality_df.set_index('genome name')\n",
    "quality_df.median()"
   ]
  },
  {
   "cell_type": "code",
   "execution_count": null,
   "metadata": {
    "collapsed": true
   },
   "outputs": [],
   "source": [
    "genome_dir = '/home/sam/moria/enterobase_db'\n",
    "from Bio import SeqIO\n",
    "from tqdm import tqdm\n",
    "import random\n",
    "all_genomes = list(predictor_df.index)\n",
    "samples = random.sample(all_genomes, 10)\n",
    "genome_infos = []\n",
    "for genome in tqdm(samples):\n",
    "    genome_file = os.path.join(genome_dir, genome+'.fasta')\n",
    "    entry = {\n",
    "        'genome name': genome\n",
    "    }\n",
    "    l = []\n",
    "    for record in SeqIO.parse(genome_file, 'fasta'):\n",
    "        l.append(str(len(record.seq)))\n",
    "    entry['lengths'] = ','.join(l)\n",
    "    entry['count'] = len(l)\n",
    "    genome_infos.append(entry)\n",
    "quality_df = pd.DataFrame(genome_infos)\n",
    "quality_df = quality_df.set_index('genome name')\n",
    "quality_df.median()"
   ]
  },
  {
   "cell_type": "markdown",
   "metadata": {},
   "source": [
    "## Intrepretation\n",
    "* Both **marker prediction** and **mash prediction** have high accuracy for correct predictions but have high false negative rate as well\n",
    "* **marker prediction** have false negative prediction when they quality of genome is poor (indicated by high contig count)\n",
    "* **mash prediction**'s false negative rate appears to be independent of genome quality"
   ]
  },
  {
   "cell_type": "markdown",
   "metadata": {
    "collapsed": true
   },
   "source": [
    "## Expand columns"
   ]
  },
  {
   "cell_type": "code",
   "execution_count": null,
   "metadata": {
    "collapsed": true
   },
   "outputs": [],
   "source": [
    "strains = pd.read_json('strains.json')\n",
    "report = pd.read_csv('gene_presence_report.csv')\n",
    "report.describe()"
   ]
  },
  {
   "cell_type": "code",
   "execution_count": null,
   "metadata": {
    "collapsed": true
   },
   "outputs": [],
   "source": [
    "new_report = report.merge(\n",
    "    strains[['assembly_barcode', 'serotype', 'species']],\n",
    "    left_on='genome_name', right_on='assembly_barcode', how='left'\n",
    ")\n",
    "new_report.columns = [\n",
    "    'genome name', '1436893830000|3159571',\n",
    "    '1436893909000|3159808', '2873786891000|3159389', '2873787160000|3160196',\n",
    "    '4310679577000|3158082', '4310679772000|3158667', '4310679831000|3158844',\n",
    "    '4310680254000|3160113', '4310680315000|3160296', '4310680399000|3160548',\n",
    "    'assembly_barcode', 'enterobase serotype', 'enterobase species'\n",
    "]\n",
    "new_report['hit count'] = new_report[marker_cols].sum(axis=1)\n",
    "new_report = new_report[[\n",
    "    'genome name', 'hit count',\n",
    "    'enterobase serotype', 'enterobase species',\n",
    "    '1436893830000|3159571',\n",
    "    '1436893909000|3159808', '2873786891000|3159389', '2873787160000|3160196',\n",
    "    '4310679577000|3158082', '4310679772000|3158667', '4310679831000|3158844',\n",
    "    '4310680254000|3160113', '4310680315000|3160296', '4310680399000|3160548',\n",
    "]]\n",
    "new_report.to_csv('new_report.csv', index=False)\n",
    "new_report"
   ]
  },
  {
   "cell_type": "code",
   "execution_count": 4,
   "metadata": {},
   "outputs": [],
   "source": [
    "report = pd.read_csv('new_report.csv', index_col='genome name')\n",
    "mash_csv = pd.read_csv('mash_for_lowhitecoli.csv')[['barcode', 'species']]"
   ]
  },
  {
   "cell_type": "code",
   "execution_count": 37,
   "metadata": {},
   "outputs": [],
   "source": [
    "new_report = report.merge(mash_csv, left_index=True, right_on='barcode', how='left')\n",
    "new_cols = [\n",
    "    'hit count', 'enterobase serotype', 'enterobase species',\n",
    "    '1436893830000|3159571', '1436893909000|3159808',\n",
    "    '2873786891000|3159389', '2873787160000|3160196',\n",
    "    '4310679577000|3158082', '4310679772000|3158667',\n",
    "    '4310679831000|3158844', '4310680254000|3160113',\n",
    "    '4310680315000|3160296', '4310680399000|3160548', 'barcode', 'mash species'\n",
    "]\n",
    "new_report.columns = new_cols\n",
    "new_cols = [\n",
    "    'barcode', 'hit count', 'enterobase serotype',\n",
    "    'enterobase species','mash species',\n",
    "    '1436893830000|3159571', '1436893909000|3159808',\n",
    "    '2873786891000|3159389', '2873787160000|3160196',\n",
    "    '4310679577000|3158082', '4310679772000|3158667',\n",
    "    '4310679831000|3158844', '4310680254000|3160113',\n",
    "    '4310680315000|3160296', '4310680399000|3160548'\n",
    "]\n",
    "new_report = new_report[new_cols]\n",
    "new_report = new_report.set_index(keys='barcode')\n",
    "new_report.to_csv('new_report2.csv')"
   ]
  },
  {
   "cell_type": "code",
   "execution_count": 20,
   "metadata": {},
   "outputs": [
    {
     "data": {
      "text/plain": [
       "Index(['hit count', 'enterobase serotype', 'enterobase species',\n",
       "       '1436893830000|3159571', '1436893909000|3159808',\n",
       "       '2873786891000|3159389', '2873787160000|3160196',\n",
       "       '4310679577000|3158082', '4310679772000|3158667',\n",
       "       '4310679831000|3158844', '4310680254000|3160113',\n",
       "       '4310680315000|3160296', '4310680399000|3160548', 'barcode', 'species'],\n",
       "      dtype='object')"
      ]
     },
     "execution_count": 20,
     "metadata": {},
     "output_type": "execute_result"
    }
   ],
   "source": [
    "new_report[new_report['species'].notnull()].columns"
   ]
  },
  {
   "cell_type": "code",
   "execution_count": null,
   "metadata": {
    "collapsed": true
   },
   "outputs": [],
   "source": []
  }
 ],
 "metadata": {
  "kernelspec": {
   "display_name": "Python 3",
   "language": "python",
   "name": "python3"
  },
  "language_info": {
   "codemirror_mode": {
    "name": "ipython",
    "version": 3
   },
   "file_extension": ".py",
   "mimetype": "text/x-python",
   "name": "python",
   "nbconvert_exporter": "python",
   "pygments_lexer": "ipython3",
   "version": "3.5.4"
  }
 },
 "nbformat": 4,
 "nbformat_minor": 2
}
